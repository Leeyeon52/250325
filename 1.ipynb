{
 "cells": [
  {
   "cell_type": "code",
   "execution_count": 165,
   "metadata": {},
   "outputs": [
    {
     "name": "stdout",
     "output_type": "stream",
     "text": [
      "<class 'pandas.core.frame.DataFrame'>\n",
      "RangeIndex: 891 entries, 0 to 890\n",
      "Data columns (total 12 columns):\n",
      " #   Column       Non-Null Count  Dtype  \n",
      "---  ------       --------------  -----  \n",
      " 0   PassengerId  891 non-null    int64  \n",
      " 1   Survived     891 non-null    int64  \n",
      " 2   Pclass       891 non-null    int64  \n",
      " 3   Name         891 non-null    object \n",
      " 4   Sex          891 non-null    object \n",
      " 5   Age          714 non-null    float64\n",
      " 6   SibSp        891 non-null    int64  \n",
      " 7   Parch        891 non-null    int64  \n",
      " 8   Ticket       891 non-null    object \n",
      " 9   Fare         891 non-null    float64\n",
      " 10  Cabin        204 non-null    object \n",
      " 11  Embarked     889 non-null    object \n",
      "dtypes: float64(2), int64(5), object(5)\n",
      "memory usage: 83.7+ KB\n",
      "PassengerId      0\n",
      "Survived         0\n",
      "Pclass           0\n",
      "Name             0\n",
      "Sex              0\n",
      "Age            177\n",
      "SibSp            0\n",
      "Parch            0\n",
      "Ticket           0\n",
      "Fare             0\n",
      "Cabin          687\n",
      "Embarked         2\n",
      "dtype: int64\n"
     ]
    }
   ],
   "source": [
    "import numpy as np\n",
    "import pandas as pd\n",
    "import matplotlib\n",
    "import matplotlib.pyplot as pit\n",
    "import os\n",
    "import seaborn as sns\n",
    "\n",
    "train_data = pd.read_csv('train.csv')\n",
    "test_data = pd.read_csv('test.csv')\n",
    "train_data.info()\n",
    "print(train_data.isnull().sum())\n",
    "train_data.head()\n",
    "import plotly.express as px"
   ]
  },
  {
   "cell_type": "code",
   "execution_count": 181,
   "metadata": {},
   "outputs": [
    {
     "name": "stdout",
     "output_type": "stream",
     "text": [
      "   Survived     Sex\n",
      "0         0    male\n",
      "1         1  female\n",
      "2         1  female\n"
     ]
    }
   ],
   "source": [
    "data = {\n",
    "    'Ticket': ['A/5 21171', 'PC 17599', 'STON/O2. 3101282'],\n",
    "    'Fare': [7.25, 71.2833, 7.925],\n",
    "    'Lifeboat': [None, 'C', None],\n",
    "    'Home/Destination': ['New York, NY', 'Paris, France', 'London, UK'],\n",
    "    'Survived': [0, 1, 1],\n",
    "    'Sex': ['male', 'female', 'female']\n",
    "}\n",
    "df = pd.DataFrame(data)\n",
    "\n",
    "df = df.drop(columns=['Ticket', 'Fare', 'Lifeboat', 'Home/Destination'])\n",
    "\n",
    "print(df)"
   ]
  },
  {
   "cell_type": "code",
   "execution_count": 177,
   "metadata": {},
   "outputs": [
    {
     "name": "stdout",
     "output_type": "stream",
     "text": [
      "       Survived\n",
      "count  7.000000\n",
      "mean   0.428571\n",
      "std    0.534522\n",
      "min    0.000000\n",
      "25%    0.000000\n",
      "50%    0.000000\n",
      "75%    1.000000\n",
      "max    1.000000\n"
     ]
    }
   ],
   "source": [
    "data = {'Sex': ['male', 'female', 'female', 'male', 'male', 'female', 'female'],\n",
    "        'Survived': [0, 1, 1, 0, 0, 1, 0]}\n",
    "\n",
    "print(df.describe())"
   ]
  },
  {
   "cell_type": "code",
   "execution_count": 178,
   "metadata": {},
   "outputs": [
    {
     "name": "stdout",
     "output_type": "stream",
     "text": [
      "Survival Rate: 42.86%\n"
     ]
    }
   ],
   "source": [
    "survial_rate = df['Survived'].mean()\n",
    "print(f\"Survival Rate: {survial_rate * 100:.2f}%\")"
   ]
  },
  {
   "cell_type": "code",
   "execution_count": 180,
   "metadata": {},
   "outputs": [
    {
     "name": "stdout",
     "output_type": "stream",
     "text": [
      "Sex\n",
      "female    0.500000\n",
      "male      0.333333\n",
      "Name: Survived, dtype: float64\n"
     ]
    }
   ],
   "source": [
    "data = {\n",
    "    'Sex': ['male', 'female', 'female', 'male', 'male', 'female', 'female'],\n",
    "    'Survived': [1, 0, 1, 0, 0, 1, 0]\n",
    "}\n",
    "df = pd.DataFrame(data)\n",
    "sex_survival = df.groupby('Sex')['Survived'].mean()\n",
    "print(sex_survival)\n"
   ]
  },
  {
   "cell_type": "code",
   "execution_count": 169,
   "metadata": {},
   "outputs": [
    {
     "name": "stdout",
     "output_type": "stream",
     "text": [
      "SibSp  Parch\n",
      "0      0        0.0\n",
      "       1        0.0\n",
      "1      0        1.0\n",
      "       1        1.0\n",
      "2      0        1.0\n",
      "3      0        0.0\n",
      "Name: Survived, dtype: float64\n"
     ]
    }
   ],
   "source": [
    "data = {\n",
    "    'SibSp': [1, 0, 2, 1, 0, 3, 1],\n",
    "    'Parch': [0, 1, 0, 1, 0, 0, 1],\n",
    "    'Survived': [1, 0, 1, 1, 0, 0, 1]\n",
    "}\n",
    "\n",
    "df = pd.DataFrame(data)\n",
    "family_survival = df.groupby(['SibSp', 'Parch'])['Survived'].mean()\n",
    "print(family_survival)"
   ]
  },
  {
   "cell_type": "code",
   "execution_count": 170,
   "metadata": {},
   "outputs": [
    {
     "name": "stdout",
     "output_type": "stream",
     "text": [
      "Fare_binned\n",
      "0-10     0.500000\n",
      "10-50         NaN\n",
      "50+      0.333333\n",
      "Name: Survived, dtype: float64\n"
     ]
    },
    {
     "name": "stderr",
     "output_type": "stream",
     "text": [
      "C:\\Users\\302-15\\AppData\\Local\\Temp\\ipykernel_1696\\3868821843.py:12: FutureWarning:\n",
      "\n",
      "The default of observed=False is deprecated and will be changed to True in a future version of pandas. Pass observed=False to retain current behavior or observed=True to adopt the future default and silence this warning.\n",
      "\n"
     ]
    }
   ],
   "source": [
    "data = {\n",
    "    'Fare': [7.25, 71.2833, 7.925, 53.1, 8.05, 8.4583, 51.8625],\n",
    "    'Survived': [0, 1, 1, 0, 0, 1, 0]\n",
    "}\n",
    "\n",
    "df = pd.DataFrame(data)\n",
    "\n",
    "bins = [0, 10, 50, 100]\n",
    "labels = ['0-10', '10-50', '50+']\n",
    "df['Fare_binned'] = pd.cut(df['Fare'], bins=bins, labels=labels, right=False)\n",
    "\n",
    "fare_survival = df.groupby('Fare_binned')['Survived'].mean()\n",
    "\n",
    "\n",
    "print(fare_survival)"
   ]
  },
  {
   "cell_type": "code",
   "execution_count": null,
   "metadata": {},
   "outputs": [
    {
     "data": {
      "image/png": "[encoded data removed]",
      "text/plain": [
       "<Figure size 500x500 with 1 Axes>"
      ]
     },
     "metadata": {},
     "output_type": "display_data"
    }
   ],
   "source": [
    "survival_rate = df['Survived'].mean()\n",
    "\n",
    "# 그래프 그리기\n",
    "pit.figure(figsize=(3, 7))\n",
    "pit.bar(['Survived', 'Died'], [survival_rate, 1 - survival_rate], color=['green', 'skyblue'])\n",
    "pit.title('Survival Rate')\n",
    "pit.ylabel('Percentage')\n",
    "pit.show()"
   ]
  },
  {
   "cell_type": "code",
   "execution_count": 172,
   "metadata": {},
   "outputs": [
    {
     "data": {
      "text/plain": [
       "([<matplotlib.patches.Wedge at 0x1b960851cd0>,\n",
       "  <matplotlib.patches.Wedge at 0x1b960ce3440>],\n",
       " [Text(-0.9801071672559597, 0.49938956806635293, 'Survived'),\n",
       "  Text(0.9801071204997298, -0.499389659830606, 'Died')],\n",
       " [Text(-0.5346039094123416, 0.2723943098543743, '35.0%'),\n",
       "  Text(0.5346038839089434, -0.27239435990760325, '65.0%')])"
      ]
     },
     "execution_count": 172,
     "metadata": {},
     "output_type": "execute_result"
    },
    {
     "data": {
      "image/png": "[encoded data removed]",
      "text/plain": [
       "<Figure size 640x480 with 1 Axes>"
      ]
     },
     "metadata": {},
     "output_type": "display_data"
    }
   ],
   "source": [
    "labels = ['Survived', 'Died']\n",
    "sizes = [35, 65]\n",
    "pit.pie(sizes, labels=labels, autopct='%1.1f%%', startangle=90)"
   ]
  },
  {
   "cell_type": "code",
   "execution_count": 173,
   "metadata": {},
   "outputs": [
    {
     "name": "stdout",
     "output_type": "stream",
     "text": [
      "남성 생존자 수: 1\n"
     ]
    }
   ],
   "source": [
    "import pandas as pd\n",
    "\n",
    "\n",
    "data = {\n",
    "    'Sex': ['male', 'female', 'female', 'male', 'male', 'female', 'female'],\n",
    "    'Survived': [1, 0, 1, 0, 0, 1, 0]\n",
    "}\n",
    "\n",
    "df = pd.DataFrame(data)\n",
    "\n",
    "\n",
    "male_survived = len(df[(df['Sex'] == 'male') & (df['Survived'] == 1)])\n",
    "\n",
    "\n",
    "print(f\"남성 생존자 수: {male_survived}\")\n"
   ]
  },
  {
   "cell_type": "code",
   "execution_count": 174,
   "metadata": {},
   "outputs": [
    {
     "name": "stdout",
     "output_type": "stream",
     "text": [
      "남성 생존율: 0.33\n"
     ]
    }
   ],
   "source": [
    "# 남성 총 수 계산\n",
    "male_total = len(df[df['Sex'] == 'male'])\n",
    "\n",
    "# 남성 생존율 계산\n",
    "male_survival_rate = male_survived / male_total if male_total != 0 else 0\n",
    "\n",
    "# 결과 출력\n",
    "print(f\"남성 생존율: {male_survival_rate:.2f}\")\n"
   ]
  },
  {
   "cell_type": "code",
   "execution_count": 175,
   "metadata": {},
   "outputs": [
    {
     "name": "stdout",
     "output_type": "stream",
     "text": [
      "Index(['Sex', 'Survived'], dtype='object')\n",
      "Male Survived: 0, Male Died: 3\n",
      "Female Survived: 3, Female Died: 1\n",
      "Male Survival Rate: 0.33\n"
     ]
    },
    {
     "data": {
      "image/png": "[encoded data removed]",
      "text/plain": [
       "<Figure size 640x480 with 1 Axes>"
      ]
     },
     "metadata": {},
     "output_type": "display_data"
    }
   ],
   "source": [
    "data = {'Sex':['male','female','female','male','male','female','female'],\"Survived\":[0,1,1,0,0,1,0]}\n",
    "\n",
    "df = pd.DataFrame(data)\n",
    "\n",
    "print(df.columns)\n",
    "\n",
    "male_survived = len(df[(df['Sex'] == 'male') & (df['Survived'] == 1)])\n",
    "male_died = len(df[(df['Sex'] == 'male') & (df['Survived'] == 0)])\n",
    "\n",
    "female_survived = len(df[(df['Sex'] == 'female') & (df['Survived'] == 1)])\n",
    "female_died = len(df[(df['Sex'] == 'female') & (df['Survived'] == 0)])\n",
    "\n",
    "print(f\"Male Survived: {male_survived}, Male Died: {male_died}\")\n",
    "print(f\"Female Survived: {female_survived}, Female Died: {female_died}\")\n",
    "print(f\"Male Survival Rate: {male_survival_rate:.2f}\")\n",
    "\n",
    "\n",
    "labels = ['Male Survived', 'Male Died', 'Female Survived', 'Female Died']\n",
    "sizes = [male_survived, male_died, female_survived, female_died]\n",
    "\n",
    "pit.pie(sizes, labels=labels, autopct='%1.1f%%', startangle=90)\n",
    "pit.axis('equal')\n",
    "pit.show()\n"
   ]
  },
  {
   "cell_type": "code",
   "execution_count": 176,
   "metadata": {},
   "outputs": [
    {
     "name": "stdout",
     "output_type": "stream",
     "text": [
      "Index(['Sex', 'Survived'], dtype='object')\n"
     ]
    },
    {
     "data": {
      "image/png": "[encoded data removed]",
      "text/plain": [
       "<Figure size 800x600 with 1 Axes>"
      ]
     },
     "metadata": {},
     "output_type": "display_data"
    }
   ],
   "source": [
    "data = {'Sex':['male','female','female','male','male','female','female'],\n",
    "        \"Survived\":[0,1,1,0,0,1,0]}\n",
    "\n",
    "df = pd.DataFrame(data)\n",
    "\n",
    "print(df.columns)\n",
    "\n",
    "male_survived = len(df[(df['Sex'] == 'male') & (df['Survived'] == 1)])\n",
    "male_died = len(df[(df['Sex'] == 'male') & (df['Survived'] == 0)])\n",
    "\n",
    "female_survived = len(df[(df['Sex'] == 'female') & (df['Survived'] == 1)])\n",
    "female_died = len(df[(df['Sex'] == 'female') & (df['Survived'] == 0)])\n",
    "\n",
    "labels = ['Survived', 'Died']\n",
    "male_counts = [male_survived, male_died]\n",
    "female_counts = [female_survived, female_died]\n",
    "\n",
    "fig, ax = pit.subplots(figsize=(8, 6))\n",
    "\n",
    "bar_width = 0.35  \n",
    "index = range(len(labels))\n",
    "\n",
    "ax.bar(index, male_counts, bar_width, label='Male', color='skyblue', alpha=0.7)\n",
    "\n",
    "ax.bar([p + bar_width for p in index], female_counts, bar_width, label='Female', color='pink')\n",
    "\n",
    "ax.set_xlabel('Survival Status')\n",
    "ax.set_ylabel('Count')\n",
    "ax.set_title('Survival and Death by Gender')\n",
    "ax.set_xticks([p + bar_width / 2 for p in index])  \n",
    "ax.set_xticklabels(labels)  \n",
    "ax.legend()  \n",
    "\n",
    "\n",
    "pit.show()"
   ]
  },
  {
   "cell_type": "code",
   "execution_count": null,
   "metadata": {},
   "outputs": [],
   "source": []
  }
 ],
 "metadata": {
  "kernelspec": {
   "display_name": "base",
   "language": "python",
   "name": "python3"
  },
  "language_info": {
   "codemirror_mode": {
    "name": "ipython",
    "version": 3
   },
   "file_extension": ".py",
   "mimetype": "text/x-python",
   "name": "python",
   "nbconvert_exporter": "python",
   "pygments_lexer": "ipython3",
   "version": "3.12.7"
  }
 },
 "nbformat": 4,
 "nbformat_minor": 2
}
